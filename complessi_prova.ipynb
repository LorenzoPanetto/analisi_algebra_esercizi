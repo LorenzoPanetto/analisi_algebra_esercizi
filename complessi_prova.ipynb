{
 "cells": [
  {
   "cell_type": "code",
   "execution_count": null,
   "metadata": {},
   "outputs": [],
   "source": [
    "# risoluzione di R(z*(i+1)) + z*np.conj(z) = 0\n",
    "\n",
    "import numpy as np\n",
    "from scipy.optimize import fsolve\n",
    "\n",
    "# Sistema di equazioni\n",
    "def system(variables):\n",
    "    x, y = variables\n",
    "    return [\n",
    "        x**3 - 3*x*y**2 - np.sqrt(x**2 + y**2),  # Parte reale\n",
    "        3*x**2*y - y**3                          # Parte immaginaria\n",
    "    ]\n",
    "\n",
    "# Stima iniziale\n",
    "initial_guess = [1, 1]\n",
    "\n",
    "# Risoluzione\n",
    "solution = fsolve(system, initial_guess)\n",
    "print(f\"Soluzione trovata: x = {solution[0]}, y = {solution[1]}\")"
   ]
  }
 ],
 "metadata": {
  "language_info": {
   "name": "python"
  }
 },
 "nbformat": 4,
 "nbformat_minor": 2
}
