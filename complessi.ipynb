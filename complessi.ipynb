{
 "cells": [
  {
   "cell_type": "code",
   "execution_count": 2,
   "metadata": {},
   "outputs": [],
   "source": [
    "import numpy as np\n",
    "import scipy as sp"
   ]
  },
  {
   "cell_type": "code",
   "execution_count": 3,
   "metadata": {},
   "outputs": [
    {
     "name": "stdout",
     "output_type": "stream",
     "text": [
      "Re(z) = 1.000000\n",
      "Re(z) = 2.000000\n"
     ]
    }
   ],
   "source": [
    "# ESERCIZIO 0 - Parte reale e immaginaria\n",
    "\n",
    "z = 1 + 2j\n",
    "\n",
    "print ( 'Re(z) = %f' % np.real( z ))\n",
    "print ( 'Re(z) = %f' % np.imag( z ))"
   ]
  },
  {
   "cell_type": "code",
   "execution_count": 11,
   "metadata": {},
   "outputs": [
    {
     "name": "stdout",
     "output_type": "stream",
     "text": [
      "(6-1j)\n",
      "(-2-4j)\n",
      "(4+0j)\n",
      "(-3+4j)\n",
      "(-0.25-2.25j)\n",
      "(-2-1j)\n"
     ]
    }
   ],
   "source": [
    "# ESERCIZIO 1 / 2 - Algebra numeri complessi\n",
    "\n",
    "z1 = 1 + 1j\n",
    "z2 = 5 - 2j\n",
    "print( z1 + z2 )\n",
    "\n",
    "z1 = 2 - 3j\n",
    "z2 = 4 + 1j\n",
    "print( z1 - z2 )\n",
    "\n",
    "z1 = 1 - 1j\n",
    "z2 = 2 + 2j\n",
    "print( z1 * z2 )\n",
    "\n",
    "z1 = 1 + 2j\n",
    "print( z1 * z1 )\n",
    "\n",
    "z1 = 4 - 5j\n",
    "z2 = 2 + 2j\n",
    "print( z1 / z2 )\n",
    "\n",
    "z1 = 1 - 2j\n",
    "z2 = 0 + 1j\n",
    "print( z1 / z2 )"
   ]
  },
  {
   "cell_type": "code",
   "execution_count": 15,
   "metadata": {},
   "outputs": [
    {
     "name": "stdout",
     "output_type": "stream",
     "text": [
      "|z| =  2.23606797749979\n",
      "|z| =  5.0\n"
     ]
    }
   ],
   "source": [
    "# ESERCIZIO 3 - Modulo numeri complessi\n",
    "\n",
    "z = 1+ 1j - 1j / 1 - 2j\n",
    "print( '|z| = ', np.abs( z ) )\n",
    "\n",
    "z = ( 1+ 1j - 1j / 1 - 2j )**2\n",
    "print( '|z| = ', np.abs( z ) )"
   ]
  },
  {
   "cell_type": "code",
   "execution_count": null,
   "metadata": {},
   "outputs": [
    {
     "name": "stdout",
     "output_type": "stream",
     "text": [
      "z = 0.866025 + -0.500000j = 1.000000exp(-0.523599j)\n",
      "z = 0.250000 + 0.250000j = 0.353553exp(0.785398j)\n",
      "z1/z2 =  (0.7320508075688776-2.732050807568877j)\n"
     ]
    },
    {
     "data": {
      "text/plain": [
       "(-1125899906842624+0j)"
      ]
     },
     "execution_count": 23,
     "metadata": {},
     "output_type": "execute_result"
    }
   ],
   "source": [
    "# ESERCIZIO 5 - Forma algebrica e trigonometrica \n",
    "\n",
    "z1 = 2 /( np.sqrt(3) - 1j ) + 1 / 1j\n",
    "print('z = %f + %fj = %fexp(%fj)' % ( np.real(z1), np.imag(z1), np.abs(z1), np.angle(z1)))\n",
    "\n",
    "z2 = 1 /(2 - 2j)\n",
    "print('z = %f + %fj = %fexp(%fj)' % ( np.real(z2), np.imag(z2), np.abs(z2), np.angle(z2)))\n",
    "\n",
    "print( 'z1/z2 = ', z1/z2) \n",
    "\n",
    "\n",
    "z3 = 1 + 1j\n",
    "z3**100\n"
   ]
  },
  {
   "cell_type": "code",
   "execution_count": 35,
   "metadata": {},
   "outputs": [
    {
     "name": "stdout",
     "output_type": "stream",
     "text": [
      "[-3. +0.j         -1.5+2.59807621j -1.5-2.59807621j  3. +0.j\n",
      "  1.5+2.59807621j  1.5-2.59807621j]\n",
      "[-1.53208889+1.28557522j -0.34729636-1.96961551j  1.87938524+0.68404029j]\n"
     ]
    }
   ],
   "source": [
    "# ESERCIZIO 6 - Radici complesse \n",
    "# z**6 = 729 --> z**6 - 729 = 0\n",
    "\n",
    "p = np.zeros(7) \n",
    "# creato un array di 7 posizioni inizializzato a 0: le posizioni corrisponderanno ai coefficienti del mio polinomio x**6, x**5 ... x**0\n",
    "p[0] = 1\n",
    "# inizializzata la prima posizione dell'array (coefficiente di x**6 pari a 1)\n",
    "p[-1] = -729\n",
    "# p[6] inizializzata l'ultima posizione a -729\n",
    "print( np.roots( p ) ) \n",
    "# utilizzare la funzione np.roots per cacolare tutte le radici (reali/immaginarie) del POLINOMIO z**6 - 729 = 0\n",
    "\n",
    "# z^3 - 4 - 4*sqrt(3)i\n",
    "a = 4 + 4 * np.sqrt(3) * 1j\n",
    "h = [ 1, 0, 0, -a ]\n",
    "print ( np.roots ( h ) )"
   ]
  },
  {
   "cell_type": "code",
   "execution_count": 36,
   "metadata": {},
   "outputs": [
    {
     "name": "stdout",
     "output_type": "stream",
     "text": [
      "[ 0.00000000e+00-3.30277564j -1.73472348e-18+0.30277564j]\n"
     ]
    }
   ],
   "source": [
    "#  ESERCIZIO 7 - Equazioni complesse polinomiali\n",
    "\n",
    "# z**2 + 3jz + 4 = 0\n",
    "p = np.array([1,3j,1])\n",
    "print( np.roots( p ) )\n",
    "# tratto l'equazione come un polinomio nella forma ax**2 + b*x + c = 0"
   ]
  },
  {
   "cell_type": "code",
   "execution_count": 6,
   "metadata": {},
   "outputs": [],
   "source": [
    "# ESERCIZIO 8 - Equazioni complesse non polinomiali\n",
    "\n",
    "# z**3 - |z| = 0\n"
   ]
  }
 ],
 "metadata": {
  "kernelspec": {
   "display_name": "Python 3",
   "language": "python",
   "name": "python3"
  },
  "language_info": {
   "codemirror_mode": {
    "name": "ipython",
    "version": 3
   },
   "file_extension": ".py",
   "mimetype": "text/x-python",
   "name": "python",
   "nbconvert_exporter": "python",
   "pygments_lexer": "ipython3",
   "version": "3.13.1"
  }
 },
 "nbformat": 4,
 "nbformat_minor": 2
}
